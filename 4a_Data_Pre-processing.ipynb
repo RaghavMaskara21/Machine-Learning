{
  "nbformat": 4,
  "nbformat_minor": 0,
  "metadata": {
    "colab": {
      "name": "Lab_4A.ipynb",
      "provenance": [],
      "collapsed_sections": [],
      "include_colab_link": true
    },
    "kernelspec": {
      "name": "python3",
      "display_name": "Python 3"
    },
    "language_info": {
      "name": "python"
    }
  },
  "cells": [
    {
      "cell_type": "markdown",
      "metadata": {
        "id": "view-in-github",
        "colab_type": "text"
      },
      "source": [
        "<a href=\"https://colab.research.google.com/github/RaghavMaskara21/Machine-Learning/blob/main/4a_Data_Pre-processing.ipynb\" target=\"_parent\"><img src=\"https://colab.research.google.com/assets/colab-badge.svg\" alt=\"Open In Colab\"/></a>"
      ]
    },
    {
      "cell_type": "code",
      "execution_count": 2,
      "metadata": {
        "id": "KC49jOwRf-Ip",
        "colab": {
          "base_uri": "https://localhost:8080/"
        },
        "outputId": "da5a3ae2-a090-4537-f785-59d5a46b161b"
      },
      "outputs": [
        {
          "output_type": "stream",
          "name": "stdout",
          "text": [
            "[nltk_data] Downloading package stopwords to /root/nltk_data...\n",
            "[nltk_data]   Unzipping corpora/stopwords.zip.\n",
            "[nltk_data] Downloading package wordnet to /root/nltk_data...\n",
            "[nltk_data]   Unzipping corpora/wordnet.zip.\n"
          ]
        }
      ],
      "source": [
        "import numpy as np\n",
        "import matplotlib.pyplot as plt\n",
        "import pandas as pd\n",
        "import re\n",
        "import nltk\n",
        "nltk.download('stopwords')\n",
        "nltk.download('wordnet')\n",
        "from nltk.corpus import stopwords\n",
        "from nltk.stem.porter import PorterStemmer\n",
        "from nltk.stem import WordNetLemmatizer"
      ]
    },
    {
      "cell_type": "code",
      "source": [
        "dataset = pd.read_csv(\"spam.csv\", encoding = \"latin-1\")"
      ],
      "metadata": {
        "id": "Ewrh_BQmg9X8"
      },
      "execution_count": 3,
      "outputs": []
    },
    {
      "cell_type": "code",
      "source": [
        "ans_stem = []\n",
        "ans_lm = []\n",
        "for i in range(0,5572):\n",
        "  text = re.sub('[^a-zA-Z]',' ',dataset['v2'][i])\n",
        "  text = text.lower() #convert to lowercase\n",
        "  text = text.split() #Tokenization\n",
        "  ps = PorterStemmer()\n",
        "  lm = WordNetLemmatizer()\n",
        "  txt_stem = [ps.stem(word) for word in text if not word in set(stopwords.words('english'))]\n",
        "  txt_stem = ' '.join(txt_stem)\n",
        "  txt_lm = [lm.lemmatize(word) for word in text if not word in set(stopwords.words('english'))]\n",
        "  txt_lm = ' '.join(txt_lm)\n",
        "  ans_stem.append(txt_stem)\n",
        "  ans_lm.append(txt_lm)"
      ],
      "metadata": {
        "id": "4Vfga-WOh_My"
      },
      "execution_count": 15,
      "outputs": []
    },
    {
      "cell_type": "code",
      "source": [
        "for x in range(len(ans_stem)):\n",
        "    print(ans_stem[x])"
      ],
      "metadata": {
        "id": "8LguJoftinfY"
      },
      "execution_count": null,
      "outputs": []
    },
    {
      "cell_type": "code",
      "source": [
        "for x in range(len(ans_lm)):\n",
        "    print(ans_lm[x])"
      ],
      "metadata": {
        "id": "4He4Cv7DxYGP"
      },
      "execution_count": null,
      "outputs": []
    }
  ]
}