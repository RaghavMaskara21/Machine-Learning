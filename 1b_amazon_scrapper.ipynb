{
  "nbformat": 4,
  "nbformat_minor": 0,
  "metadata": {
    "colab": {
      "name": "ass1b_amazon_scrapper_final.ipynb",
      "provenance": [],
      "collapsed_sections": [],
      "authorship_tag": "ABX9TyModZGFI40o7Ygd1hMgunX/",
      "include_colab_link": true
    },
    "kernelspec": {
      "name": "python3",
      "display_name": "Python 3"
    },
    "language_info": {
      "name": "python"
    }
  },
  "cells": [
    {
      "cell_type": "markdown",
      "metadata": {
        "id": "view-in-github",
        "colab_type": "text"
      },
      "source": [
        "<a href=\"https://colab.research.google.com/github/RaghavMaskara21/Machine-Learning/blob/main/1b_amazon_scrapper.ipynb\" target=\"_parent\"><img src=\"https://colab.research.google.com/assets/colab-badge.svg\" alt=\"Open In Colab\"/></a>"
      ]
    },
    {
      "cell_type": "code",
      "source": [
        "import requests\n",
        "from bs4 import BeautifulSoup\n",
        "import pandas as pd\n",
        "\n",
        "reviewlist = []\n",
        "\n",
        "def get_reviews(soup):\n",
        "    reviews = soup.find_all('div', {'data-hook': 'review'})\n",
        "    try:\n",
        "        for item in reviews:\n",
        "            review = {\n",
        "            'Product': soup.title.text.replace('Amazon.co.uk:Customer reviews:', '').strip(),\n",
        "            'Reviewer Name': item.find('span',{'class': 'a-profile-name'}).text.strip(),\n",
        "            'Review Title': item.find('a', {'data-hook': 'review-title'}).text.strip(),\n",
        "            'Review Rating':  float(item.find('i', {'data-hook': 'review-star-rating'}).text.replace('out of 5 stars', '').strip()),\n",
        "            'Review Date': item.find('span',{'data-hook': 'review-date'}).text.replace('Reviewed in India on', '').strip(),     \n",
        "            'Review Body': item.find('span', {'data-hook': 'review-body'}).text.strip(),\n",
        "            'Review Helpful or not':item.find('span',{'data-hook': 'helpful-vote-statement'}).text.replace('people found this helpful', '').strip()\n",
        "            }\n",
        "            reviewlist.append(review)\n",
        "    except:\n",
        "        pass\n",
        "\n",
        "for x in range(1,100):\n",
        "    SAMPLE_URL = \"https://www.amazon.in/JBL-Waterproof-Bluetooth-Speaker-PartyBoost/product-reviews/B07SVH63PX/ref=cm_cr_arp_d_paging_btm_next_2?ie=UTF8&reviewerType=all_reviews&pageNumber=\" + str(x)\n",
        "    r = requests.get(SAMPLE_URL)    \n",
        "    soup = BeautifulSoup(r.content, 'html.parser') \n",
        "    print(f'Getting page: {x}')\n",
        "    get_reviews(soup)\n",
        "    print(len(reviewlist))\n",
        "    if not soup.find('li', {'class': 'a-disabled a-last'}):\n",
        "        pass\n",
        "    else:\n",
        "        break\n",
        "\n",
        "df = pd.DataFrame(reviewlist)\n",
        "df.to_csv('JBL_Flip_5.csv', index=True)\n",
        "print('Finished')"
      ],
      "metadata": {
        "id": "7T2mVM5hjFpy"
      },
      "execution_count": null,
      "outputs": []
    },
    {
      "cell_type": "code",
      "source": [
        ""
      ],
      "metadata": {
        "id": "EoIfijn94LCQ"
      },
      "execution_count": null,
      "outputs": []
    }
  ]
}