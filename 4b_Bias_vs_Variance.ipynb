{
  "cells": [
    {
      "cell_type": "markdown",
      "metadata": {
        "id": "view-in-github",
        "colab_type": "text"
      },
      "source": [
        "<a href=\"https://colab.research.google.com/github/RaghavMaskara21/Machine-Learning/blob/main/4b_Bias_vs_Variance.ipynb\" target=\"_parent\"><img src=\"https://colab.research.google.com/assets/colab-badge.svg\" alt=\"Open In Colab\"/></a>"
      ]
    },
    {
      "cell_type": "code",
      "execution_count": 2,
      "metadata": {
        "id": "3ec9ba24"
      },
      "outputs": [],
      "source": [
        "import numpy as np\n",
        "import pandas as pd\n",
        "import matplotlib.pyplot as plt\n",
        "from sklearn.model_selection import train_test_split\n",
        "from sklearn.linear_model import LinearRegression\n",
        "from sklearn.preprocessing import PolynomialFeatures\n",
        "from sklearn.metrics import mean_squared_error"
      ],
      "id": "3ec9ba24"
    },
    {
      "cell_type": "code",
      "execution_count": 4,
      "metadata": {
        "colab": {
          "base_uri": "https://localhost:8080/",
          "height": 206
        },
        "id": "10969b02",
        "outputId": "e2379d42-333e-4152-e841-fec4c815a048"
      },
      "outputs": [
        {
          "output_type": "execute_result",
          "data": {
            "text/plain": [
              "   Unnamed: 0    income  happiness\n",
              "0           1  3.862647   2.314489\n",
              "1           2  4.979381   3.433490\n",
              "2           3  4.923957   4.599373\n",
              "3           4  3.214372   2.791114\n",
              "4           5  7.196409   5.596398"
            ],
            "text/html": [
              "\n",
              "  <div id=\"df-62b69d4d-c452-4bdb-9ead-3c00a4866434\">\n",
              "    <div class=\"colab-df-container\">\n",
              "      <div>\n",
              "<style scoped>\n",
              "    .dataframe tbody tr th:only-of-type {\n",
              "        vertical-align: middle;\n",
              "    }\n",
              "\n",
              "    .dataframe tbody tr th {\n",
              "        vertical-align: top;\n",
              "    }\n",
              "\n",
              "    .dataframe thead th {\n",
              "        text-align: right;\n",
              "    }\n",
              "</style>\n",
              "<table border=\"1\" class=\"dataframe\">\n",
              "  <thead>\n",
              "    <tr style=\"text-align: right;\">\n",
              "      <th></th>\n",
              "      <th>Unnamed: 0</th>\n",
              "      <th>income</th>\n",
              "      <th>happiness</th>\n",
              "    </tr>\n",
              "  </thead>\n",
              "  <tbody>\n",
              "    <tr>\n",
              "      <th>0</th>\n",
              "      <td>1</td>\n",
              "      <td>3.862647</td>\n",
              "      <td>2.314489</td>\n",
              "    </tr>\n",
              "    <tr>\n",
              "      <th>1</th>\n",
              "      <td>2</td>\n",
              "      <td>4.979381</td>\n",
              "      <td>3.433490</td>\n",
              "    </tr>\n",
              "    <tr>\n",
              "      <th>2</th>\n",
              "      <td>3</td>\n",
              "      <td>4.923957</td>\n",
              "      <td>4.599373</td>\n",
              "    </tr>\n",
              "    <tr>\n",
              "      <th>3</th>\n",
              "      <td>4</td>\n",
              "      <td>3.214372</td>\n",
              "      <td>2.791114</td>\n",
              "    </tr>\n",
              "    <tr>\n",
              "      <th>4</th>\n",
              "      <td>5</td>\n",
              "      <td>7.196409</td>\n",
              "      <td>5.596398</td>\n",
              "    </tr>\n",
              "  </tbody>\n",
              "</table>\n",
              "</div>\n",
              "      <button class=\"colab-df-convert\" onclick=\"convertToInteractive('df-62b69d4d-c452-4bdb-9ead-3c00a4866434')\"\n",
              "              title=\"Convert this dataframe to an interactive table.\"\n",
              "              style=\"display:none;\">\n",
              "        \n",
              "  <svg xmlns=\"http://www.w3.org/2000/svg\" height=\"24px\"viewBox=\"0 0 24 24\"\n",
              "       width=\"24px\">\n",
              "    <path d=\"M0 0h24v24H0V0z\" fill=\"none\"/>\n",
              "    <path d=\"M18.56 5.44l.94 2.06.94-2.06 2.06-.94-2.06-.94-.94-2.06-.94 2.06-2.06.94zm-11 1L8.5 8.5l.94-2.06 2.06-.94-2.06-.94L8.5 2.5l-.94 2.06-2.06.94zm10 10l.94 2.06.94-2.06 2.06-.94-2.06-.94-.94-2.06-.94 2.06-2.06.94z\"/><path d=\"M17.41 7.96l-1.37-1.37c-.4-.4-.92-.59-1.43-.59-.52 0-1.04.2-1.43.59L10.3 9.45l-7.72 7.72c-.78.78-.78 2.05 0 2.83L4 21.41c.39.39.9.59 1.41.59.51 0 1.02-.2 1.41-.59l7.78-7.78 2.81-2.81c.8-.78.8-2.07 0-2.86zM5.41 20L4 18.59l7.72-7.72 1.47 1.35L5.41 20z\"/>\n",
              "  </svg>\n",
              "      </button>\n",
              "      \n",
              "  <style>\n",
              "    .colab-df-container {\n",
              "      display:flex;\n",
              "      flex-wrap:wrap;\n",
              "      gap: 12px;\n",
              "    }\n",
              "\n",
              "    .colab-df-convert {\n",
              "      background-color: #E8F0FE;\n",
              "      border: none;\n",
              "      border-radius: 50%;\n",
              "      cursor: pointer;\n",
              "      display: none;\n",
              "      fill: #1967D2;\n",
              "      height: 32px;\n",
              "      padding: 0 0 0 0;\n",
              "      width: 32px;\n",
              "    }\n",
              "\n",
              "    .colab-df-convert:hover {\n",
              "      background-color: #E2EBFA;\n",
              "      box-shadow: 0px 1px 2px rgba(60, 64, 67, 0.3), 0px 1px 3px 1px rgba(60, 64, 67, 0.15);\n",
              "      fill: #174EA6;\n",
              "    }\n",
              "\n",
              "    [theme=dark] .colab-df-convert {\n",
              "      background-color: #3B4455;\n",
              "      fill: #D2E3FC;\n",
              "    }\n",
              "\n",
              "    [theme=dark] .colab-df-convert:hover {\n",
              "      background-color: #434B5C;\n",
              "      box-shadow: 0px 1px 3px 1px rgba(0, 0, 0, 0.15);\n",
              "      filter: drop-shadow(0px 1px 2px rgba(0, 0, 0, 0.3));\n",
              "      fill: #FFFFFF;\n",
              "    }\n",
              "  </style>\n",
              "\n",
              "      <script>\n",
              "        const buttonEl =\n",
              "          document.querySelector('#df-62b69d4d-c452-4bdb-9ead-3c00a4866434 button.colab-df-convert');\n",
              "        buttonEl.style.display =\n",
              "          google.colab.kernel.accessAllowed ? 'block' : 'none';\n",
              "\n",
              "        async function convertToInteractive(key) {\n",
              "          const element = document.querySelector('#df-62b69d4d-c452-4bdb-9ead-3c00a4866434');\n",
              "          const dataTable =\n",
              "            await google.colab.kernel.invokeFunction('convertToInteractive',\n",
              "                                                     [key], {});\n",
              "          if (!dataTable) return;\n",
              "\n",
              "          const docLinkHtml = 'Like what you see? Visit the ' +\n",
              "            '<a target=\"_blank\" href=https://colab.research.google.com/notebooks/data_table.ipynb>data table notebook</a>'\n",
              "            + ' to learn more about interactive tables.';\n",
              "          element.innerHTML = '';\n",
              "          dataTable['output_type'] = 'display_data';\n",
              "          await google.colab.output.renderOutput(dataTable, element);\n",
              "          const docLink = document.createElement('div');\n",
              "          docLink.innerHTML = docLinkHtml;\n",
              "          element.appendChild(docLink);\n",
              "        }\n",
              "      </script>\n",
              "    </div>\n",
              "  </div>\n",
              "  "
            ]
          },
          "metadata": {},
          "execution_count": 4
        }
      ],
      "source": [
        "dataset = pd.read_csv('income.data.csv')\n",
        "dataset.head()"
      ],
      "id": "10969b02"
    },
    {
      "cell_type": "code",
      "execution_count": 5,
      "metadata": {
        "colab": {
          "base_uri": "https://localhost:8080/"
        },
        "id": "da627ec3",
        "outputId": "a08192b1-56c8-4337-edc8-80ab9ef55134"
      },
      "outputs": [
        {
          "output_type": "stream",
          "name": "stdout",
          "text": [
            "<class 'pandas.core.frame.DataFrame'>\n",
            "RangeIndex: 498 entries, 0 to 497\n",
            "Data columns (total 3 columns):\n",
            " #   Column      Non-Null Count  Dtype  \n",
            "---  ------      --------------  -----  \n",
            " 0   Unnamed: 0  498 non-null    int64  \n",
            " 1   income      498 non-null    float64\n",
            " 2   happiness   498 non-null    float64\n",
            "dtypes: float64(2), int64(1)\n",
            "memory usage: 11.8 KB\n"
          ]
        }
      ],
      "source": [
        "dataset.info()"
      ],
      "id": "da627ec3"
    },
    {
      "cell_type": "code",
      "execution_count": 6,
      "metadata": {
        "colab": {
          "base_uri": "https://localhost:8080/"
        },
        "id": "a8a935a9",
        "outputId": "00b0d1cc-c3c9-40c1-a98c-3837215490f1"
      },
      "outputs": [
        {
          "output_type": "stream",
          "name": "stdout",
          "text": [
            "398\n",
            "398\n"
          ]
        }
      ],
      "source": [
        "X = dataset.iloc[:, 0:-1].values\n",
        "y = dataset.iloc[:, -1].values\n",
        "X_train, X_test, y_train, y_test = train_test_split(X, y, test_size=0.2, random_state=33)\n",
        "print(len(X_train))\n",
        "print(len(y_train))"
      ],
      "id": "a8a935a9"
    },
    {
      "cell_type": "code",
      "execution_count": 7,
      "metadata": {
        "colab": {
          "base_uri": "https://localhost:8080/"
        },
        "id": "9f1747da",
        "outputId": "74b0c921-df76-40c5-e11d-952b3a35da6b"
      },
      "outputs": [
        {
          "output_type": "execute_result",
          "data": {
            "text/plain": [
              "[0.5429679906564793,\n",
              " 0.5417488233270134,\n",
              " 0.5357113832203662,\n",
              " 0.5336686279393811,\n",
              " 0.5239357975913611,\n",
              " 0.5192462262388844,\n",
              " 0.5339622490022402,\n",
              " 0.6334932665170353,\n",
              " 0.7912945711681523,\n",
              " 0.9285211510891828]"
            ]
          },
          "metadata": {},
          "execution_count": 7
        }
      ],
      "source": [
        "mse_tr = []\n",
        "for i in range(1,11):\n",
        "    poly = PolynomialFeatures(degree = i)\n",
        "    X_poly = poly.fit_transform(X_train)\n",
        "    pol_reg = LinearRegression()\n",
        "    pol_reg.fit(X_poly, y_train)\n",
        "    mse_tr.append(mean_squared_error(y_train, pol_reg.predict(poly.fit_transform(X_train))))\n",
        "mse_tr"
      ],
      "id": "9f1747da"
    },
    {
      "cell_type": "code",
      "execution_count": 8,
      "metadata": {
        "colab": {
          "base_uri": "https://localhost:8080/"
        },
        "id": "ad00afb5",
        "outputId": "5dbcce07-5063-481b-ab9d-7048a053e73a"
      },
      "outputs": [
        {
          "output_type": "execute_result",
          "data": {
            "text/plain": [
              "[0.3974205899004894,\n",
              " 0.3975702529708054,\n",
              " 0.40528635913522054,\n",
              " 0.4001686316106575,\n",
              " 0.4067988913166294,\n",
              " 0.42122465044418234,\n",
              " 0.45487205112107904,\n",
              " 0.5048727630410234,\n",
              " 0.6889910629702838,\n",
              " 0.8587350515592175]"
            ]
          },
          "metadata": {},
          "execution_count": 8
        }
      ],
      "source": [
        "mse_tst = []\n",
        "for i in range(1,11):\n",
        "    poly = PolynomialFeatures(degree = i)\n",
        "    X_poly = poly.fit_transform(X_train)\n",
        "    pol_reg = LinearRegression()\n",
        "    pol_reg.fit(X_poly, y_train)\n",
        "    mse_tst.append(mean_squared_error(y_test, pol_reg.predict(poly.transform(X_test))))\n",
        "mse_tst"
      ],
      "id": "ad00afb5"
    },
    {
      "cell_type": "code",
      "execution_count": 9,
      "metadata": {
        "colab": {
          "base_uri": "https://localhost:8080/",
          "height": 573
        },
        "id": "e34e1a95",
        "outputId": "ae37f241-521d-44db-9e82-2ee790d12b39"
      },
      "outputs": [
        {
          "output_type": "display_data",
          "data": {
            "text/plain": [
              "<Figure size 432x288 with 1 Axes>"
            ],
            "image/png": "[encoded data removed]"
          },
          "metadata": {
            "needs_background": "light"
          }
        },
        {
          "output_type": "display_data",
          "data": {
            "text/plain": [
              "<Figure size 432x288 with 1 Axes>"
            ],
            "image/png": "[encoded data removed]"
          },
          "metadata": {
            "needs_background": "light"
          }
        }
      ],
      "source": [
        "plt.plot(np.array([1,2,3,4,5,6,7,8,9,10]), np.array(mse_tr), color='blue')\n",
        "plt.xlabel(\"Degree of polynomial\")\n",
        "plt.ylabel(\"MSE\")\n",
        "plt.title(\"Bias-Variance tradeoff in Training\")\n",
        "plt.show()\n",
        "\n",
        "plt.plot(np.array([1,2,3,4,5,6,7,8,9,10]), np.array(mse_tst), color='blue')\n",
        "plt.xlabel(\"Degree of polynomial\")\n",
        "plt.ylabel(\"MSE\")\n",
        "plt.title(\"Bias-Variance tradeoff in Testing\")\n",
        "plt.show()"
      ],
      "id": "e34e1a95"
    }
  ],
  "metadata": {
    "colab": {
      "name": "ass4_B.ipynb",
      "provenance": [],
      "include_colab_link": true
    },
    "kernelspec": {
      "display_name": "Python 3 (ipykernel)",
      "language": "python",
      "name": "python3"
    },
    "language_info": {
      "codemirror_mode": {
        "name": "ipython",
        "version": 3
      },
      "file_extension": ".py",
      "mimetype": "text/x-python",
      "name": "python",
      "nbconvert_exporter": "python",
      "pygments_lexer": "ipython3",
      "version": "3.9.5"
    }
  },
  "nbformat": 4,
  "nbformat_minor": 5
}